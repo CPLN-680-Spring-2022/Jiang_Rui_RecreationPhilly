{
 "cells": [
  {
   "cell_type": "markdown",
   "id": "eb769187",
   "metadata": {},
   "source": [
    "CPLN 680 Capstone Project\n",
    "Rui Jiang"
   ]
  },
  {
   "cell_type": "code",
   "execution_count": 4,
   "id": "01f44f69",
   "metadata": {},
   "outputs": [
    {
     "name": "stdout",
     "output_type": "stream",
     "text": [
      "raw:        Datetime [EST\\EDT]  D_FRW  D02  D03  D04  D05  D06  D07  D08  D09  ...  \\\n",
      "0     2019-01-01 00:00:00    0.0  0.0  0.0  0.0  0.0  0.0  0.0  0.0  0.0  ...   \n",
      "1     2019-01-01 00:15:00    0.0  0.0  0.0  0.0  0.0  0.0  0.0  0.0  0.0  ...   \n",
      "2     2019-01-01 00:30:00    0.0  0.0  0.0  0.0  0.0  0.0  0.0  0.0  0.0  ...   \n",
      "3     2019-01-01 00:45:00    0.0  0.0  0.0  0.0  0.0  0.0  0.0  0.0  0.0  ...   \n",
      "4     2019-01-01 01:00:00    0.0  0.0  0.0  0.0  0.0  0.0  0.0  0.0  0.0  ...   \n",
      "...                   ...    ...  ...  ...  ...  ...  ...  ...  ...  ...  ...   \n",
      "35035 2019-12-31 22:45:00    0.0  0.0  0.0  0.0  0.0  0.0  0.0  0.0  0.0  ...   \n",
      "35036 2019-12-31 23:00:00    0.0  0.0  0.0  0.0  0.0  0.0  0.0  0.0  0.0  ...   \n",
      "35037 2019-12-31 23:15:00    0.0  0.0  0.0  0.0  0.0  0.0  0.0  0.0  0.0  ...   \n",
      "35038 2019-12-31 23:30:00    0.0  0.0  0.0  0.0  0.0  0.0  0.0  0.0  0.0  ...   \n",
      "35039 2019-12-31 23:45:00    0.0  0.0  0.0  0.0  0.0  0.0  0.0  0.0  0.0  ...   \n",
      "\n",
      "       T06  T07  T08  T09  T10  T11  T12  T13  T14  T15  \n",
      "0      0.0  0.0  0.0  0.0  0.0  0.0  0.0  0.0  0.0  0.0  \n",
      "1      0.0  0.0  0.0  0.0  0.0  0.0  0.0  0.0  0.0  0.0  \n",
      "2      0.0  0.0  0.0  0.0  0.0  0.0  0.0  0.0  0.0  0.0  \n",
      "3      0.0  0.0  0.0  0.0  0.0  0.0  0.0  0.0  0.0  0.0  \n",
      "4      0.0  0.0  0.0  0.0  0.0  0.0  0.0  0.0  0.0  0.0  \n",
      "...    ...  ...  ...  ...  ...  ...  ...  ...  ...  ...  \n",
      "35035  0.0  0.0  0.0  0.0  0.0  0.0  0.0  0.0  0.0  0.0  \n",
      "35036  0.0  0.0  0.0  0.0  0.0  0.0  0.0  0.0  0.0  0.0  \n",
      "35037  0.0  0.0  0.0  0.0  0.0  0.0  0.0  0.0  0.0  0.0  \n",
      "35038  0.0  0.0  0.0  0.0  0.0  0.0  0.0  0.0  0.0  0.0  \n",
      "35039  0.0  0.0  0.0  0.0  0.0  0.0  0.0  0.0  0.0  0.0  \n",
      "\n",
      "[35040 rows x 58 columns]\n",
      "check:                  D_FRW  D02  D03  D04         D05  D06         D07  D08  D09  \\\n",
      "Date                                                                           \n",
      "2019-01-01    0.000000  0.0  0.0  0.0    0.000000  0.0    0.000000  0.0  0.0   \n",
      "2019-01-02    0.000000  0.0  0.0  0.0    0.000000  0.0    0.000000  0.0  0.0   \n",
      "2019-01-03    0.000000  0.0  0.0  0.0    0.000000  0.0    0.000000  0.0  0.0   \n",
      "2019-01-04    0.000000  0.0  0.0  0.0    0.000000  0.0    0.000000  0.0  0.0   \n",
      "2019-01-05  211.062375  0.0  0.0  0.0  303.333023  0.0  122.398449  0.0  0.0   \n",
      "...                ...  ...  ...  ...         ...  ...         ...  ...  ...   \n",
      "2019-12-27    0.000000  0.0  0.0  0.0    0.000000  0.0    0.000000  0.0  0.0   \n",
      "2019-12-28    0.000000  0.0  0.0  0.0    0.000000  0.0    0.000000  0.0  0.0   \n",
      "2019-12-29    3.016164  0.0  0.0  0.0   32.105389  0.0    1.355280  0.0  0.0   \n",
      "2019-12-30   12.539465  0.0  0.0  0.0  173.226401  0.0    9.686385  0.0  0.0   \n",
      "2019-12-31    0.000000  0.0  0.0  0.0    0.000000  0.0    0.000000  0.0  0.0   \n",
      "\n",
      "            D11  ...         T06  T07         T08       T09        T10  \\\n",
      "Date             ...                                                     \n",
      "2019-01-01  0.0  ...    0.000000  0.0    0.000000  0.000000   0.000000   \n",
      "2019-01-02  0.0  ...    0.000000  0.0    0.000000  0.000000   0.000000   \n",
      "2019-01-03  0.0  ...    0.000000  0.0    0.000000  0.000000   0.000000   \n",
      "2019-01-04  0.0  ...    0.000000  0.0    0.000000  0.000000   0.000000   \n",
      "2019-01-05  0.0  ...  102.338071  0.0  472.367576  9.638279  52.678404   \n",
      "...         ...  ...         ...  ...         ...       ...        ...   \n",
      "2019-12-27  0.0  ...    0.000000  0.0    0.000000  0.000000   0.000000   \n",
      "2019-12-28  0.0  ...    0.000000  0.0    0.000000  0.000000   0.000000   \n",
      "2019-12-29  0.0  ...    0.000000  0.0   20.837165  0.000000   5.640634   \n",
      "2019-12-30  0.0  ...    0.000000  0.0   18.877763  0.000000   9.018012   \n",
      "2019-12-31  0.0  ...    0.000000  0.0    0.000000  0.000000   0.000000   \n",
      "\n",
      "                 T11  T12        T13  T14        T15  \n",
      "Date                                                  \n",
      "2019-01-01  0.000000  0.0   0.000000  0.0   0.000000  \n",
      "2019-01-02  0.000000  0.0   0.000000  0.0   0.000000  \n",
      "2019-01-03  0.000000  0.0   0.000000  0.0   0.000000  \n",
      "2019-01-04  0.000000  0.0   0.000000  0.0   0.000000  \n",
      "2019-01-05  7.357609  0.0  39.876766  0.0  38.830603  \n",
      "...              ...  ...        ...  ...        ...  \n",
      "2019-12-27  0.000000  0.0   0.000000  0.0   0.000000  \n",
      "2019-12-28  0.000000  0.0   0.000000  0.0   0.000000  \n",
      "2019-12-29  0.000000  0.0   0.000000  0.0   0.109073  \n",
      "2019-12-30  0.013260  0.0   0.000000  0.0   3.412235  \n",
      "2019-12-31  0.000000  0.0   0.000000  0.0   0.000000  \n",
      "\n",
      "[365 rows x 57 columns]\n",
      "Excel file created sucessfully\n"
     ]
    }
   ],
   "source": [
    "from datetime import datetime\n",
    "import pandas as pd\n",
    "import numpy as np\n",
    "import matplotlib.pylab as plt\n",
    "%matplotlib inline\n",
    "\n",
    "#read file\n",
    "file = r'C:\\Users\\jrach\\Desktop\\Jiang_Rui_RecreationPhilly\\raw_data\\NE_CSO.xlsx'###\n",
    "data = pd.read_excel(file)\n",
    "print(\"raw:\",data)\n",
    "#convert date time to date(year,month,day)\n",
    "data[\"Date\"] = data[\"Datetime [EST\\EDT]\"].dt.date\n",
    "\n",
    "# use date to sum up daily volume for each CSO outfall\n",
    "data = data.groupby(['Date']).sum()\n",
    "\n",
    "#check\n",
    "print(\"check:\",data)\n",
    "\n",
    "#write the output excel file\n",
    "name = \"CSOdaily2019.xlsx\"###\n",
    "savefile=data.to_excel(name)\n",
    "print(\"Excel file created sucessfully\")"
   ]
  },
  {
   "cell_type": "code",
   "execution_count": 17,
   "id": "9f15595d",
   "metadata": {},
   "outputs": [
    {
     "name": "stdout",
     "output_type": "stream",
     "text": [
      "                 D_FRW  D02  D03  D04         D05  D06         D07  D08  D09  \\\n",
      "Date                                                                           \n",
      "2019-01-01    0.000000  0.0  0.0  0.0    0.000000  0.0    0.000000  0.0  0.0   \n",
      "2019-01-02    0.000000  0.0  0.0  0.0    0.000000  0.0    0.000000  0.0  0.0   \n",
      "2019-01-03    0.000000  0.0  0.0  0.0    0.000000  0.0    0.000000  0.0  0.0   \n",
      "2019-01-04    0.000000  0.0  0.0  0.0    0.000000  0.0    0.000000  0.0  0.0   \n",
      "2019-01-05  211.062375  0.0  0.0  0.0  303.333023  0.0  122.398449  0.0  0.0   \n",
      "...                ...  ...  ...  ...         ...  ...         ...  ...  ...   \n",
      "2019-12-27    0.000000  0.0  0.0  0.0    0.000000  0.0    0.000000  0.0  0.0   \n",
      "2019-12-28    0.000000  0.0  0.0  0.0    0.000000  0.0    0.000000  0.0  0.0   \n",
      "2019-12-29    3.016164  0.0  0.0  0.0   32.105389  0.0    1.355280  0.0  0.0   \n",
      "2019-12-30   12.539465  0.0  0.0  0.0  173.226401  0.0    9.686385  0.0  0.0   \n",
      "2019-12-31    0.000000  0.0  0.0  0.0    0.000000  0.0    0.000000  0.0  0.0   \n",
      "\n",
      "            D11  ...         T06  T07         T08       T09        T10  \\\n",
      "Date             ...                                                     \n",
      "2019-01-01  0.0  ...    0.000000  0.0    0.000000  0.000000   0.000000   \n",
      "2019-01-02  0.0  ...    0.000000  0.0    0.000000  0.000000   0.000000   \n",
      "2019-01-03  0.0  ...    0.000000  0.0    0.000000  0.000000   0.000000   \n",
      "2019-01-04  0.0  ...    0.000000  0.0    0.000000  0.000000   0.000000   \n",
      "2019-01-05  0.0  ...  102.338071  0.0  472.367576  9.638279  52.678404   \n",
      "...         ...  ...         ...  ...         ...       ...        ...   \n",
      "2019-12-27  0.0  ...    0.000000  0.0    0.000000  0.000000   0.000000   \n",
      "2019-12-28  0.0  ...    0.000000  0.0    0.000000  0.000000   0.000000   \n",
      "2019-12-29  0.0  ...    0.000000  0.0   20.837165  0.000000   5.640634   \n",
      "2019-12-30  0.0  ...    0.000000  0.0   18.877763  0.000000   9.018012   \n",
      "2019-12-31  0.0  ...    0.000000  0.0    0.000000  0.000000   0.000000   \n",
      "\n",
      "                 T11  T12        T13  T14        T15  \n",
      "Date                                                  \n",
      "2019-01-01  0.000000  0.0   0.000000  0.0   0.000000  \n",
      "2019-01-02  0.000000  0.0   0.000000  0.0   0.000000  \n",
      "2019-01-03  0.000000  0.0   0.000000  0.0   0.000000  \n",
      "2019-01-04  0.000000  0.0   0.000000  0.0   0.000000  \n",
      "2019-01-05  7.357609  0.0  39.876766  0.0  38.830603  \n",
      "...              ...  ...        ...  ...        ...  \n",
      "2019-12-27  0.000000  0.0   0.000000  0.0   0.000000  \n",
      "2019-12-28  0.000000  0.0   0.000000  0.0   0.000000  \n",
      "2019-12-29  0.000000  0.0   0.000000  0.0   0.109073  \n",
      "2019-12-30  0.013260  0.0   0.000000  0.0   3.412235  \n",
      "2019-12-31  0.000000  0.0   0.000000  0.0   0.000000  \n",
      "\n",
      "[365 rows x 57 columns]\n"
     ]
    }
   ],
   "source": [
    "\n",
    "#plt.plot(x,y);\n",
    "#plt.plot(x, y, 'r--o')\n",
    "#plt.xlabel('x')\n",
    "#plt.ylabel('y')\n",
    "#plt.title('title');\n",
    "#plt.plot(x, y, 'r--o', x, y ** 1.1, 'bs', x, y ** 1.2, 'g^-' );\n",
    "print(data)"
   ]
  },
  {
   "cell_type": "code",
   "execution_count": 25,
   "id": "4223a16d",
   "metadata": {},
   "outputs": [
    {
     "data": {
      "text/plain": [
       "[<matplotlib.lines.Line2D at 0x27b683656a0>]"
      ]
     },
     "execution_count": 25,
     "metadata": {},
     "output_type": "execute_result"
    },
    {
     "data": {
      "image/png": "[encoded data removed]",
      "text/plain": [
       "<Figure size 432x288 with 1 Axes>"
      ]
     },
     "metadata": {
      "needs_background": "light"
     },
     "output_type": "display_data"
    }
   ],
   "source": [
    "plt.plot(data.iloc[:,1])"
   ]
  },
  {
   "cell_type": "code",
   "execution_count": null,
   "id": "97e46e12",
   "metadata": {},
   "outputs": [],
   "source": []
  }
 ],
 "metadata": {
  "kernelspec": {
   "display_name": "Python 3 (ipykernel)",
   "language": "python",
   "name": "python3"
  },
  "language_info": {
   "codemirror_mode": {
    "name": "ipython",
    "version": 3
   },
   "file_extension": ".py",
   "mimetype": "text/x-python",
   "name": "python",
   "nbconvert_exporter": "python",
   "pygments_lexer": "ipython3",
   "version": "3.9.7"
  }
 },
 "nbformat": 4,
 "nbformat_minor": 5
}
